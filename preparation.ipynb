{
 "cells": [
  {
   "cell_type": "code",
   "execution_count": 3,
   "id": "233b4f5f-31d5-4e3a-844d-292e732a55db",
   "metadata": {},
   "outputs": [
    {
     "name": "stdout",
     "output_type": "stream",
     "text": [
      "    age  sex  cp  trestbps  chol  fbs  restecg  thalach  exang  oldpeak  \\\n",
      "0  57.0  1.0   3       145   233    1        0      150      0      2.3   \n",
      "1  64.0  0.0   2       130   250    0        1      187      0      3.5   \n",
      "2  52.0  1.0   1       130   204    0        0      172      0      1.4   \n",
      "3  56.0  0.0   1       120   236    0        1      178      0      0.8   \n",
      "4  66.0  0.0   0       120   354    0        1      163      1      0.6   \n",
      "\n",
      "   slope  ca  thal  target  \n",
      "0      0   0     1       1  \n",
      "1      0   0     2       1  \n",
      "2      2   0     2       1  \n",
      "3      2   0     2       1  \n",
      "4      2   0     2       1  \n"
     ]
    }
   ],
   "source": [
    "import pandas as pd\n",
    "\n",
    "# Memuat dataset\n",
    "file_path = 'hypertension_data.csv'  # Ganti dengan path dataset Anda\n",
    "data = pd.read_csv(file_path)\n",
    "\n",
    "# Menampilkan beberapa baris pertama untuk memeriksa data\n",
    "print(data.head())\n"
   ]
  },
  {
   "cell_type": "code",
   "execution_count": 4,
   "id": "9c57046a-0a9a-461f-bd4d-52956dcd7258",
   "metadata": {},
   "outputs": [
    {
     "name": "stdout",
     "output_type": "stream",
     "text": [
      "age          0\n",
      "sex         25\n",
      "cp           0\n",
      "trestbps     0\n",
      "chol         0\n",
      "fbs          0\n",
      "restecg      0\n",
      "thalach      0\n",
      "exang        0\n",
      "oldpeak      0\n",
      "slope        0\n",
      "ca           0\n",
      "thal         0\n",
      "target       0\n",
      "dtype: int64\n",
      "age         0\n",
      "sex         0\n",
      "cp          0\n",
      "trestbps    0\n",
      "chol        0\n",
      "fbs         0\n",
      "restecg     0\n",
      "thalach     0\n",
      "exang       0\n",
      "oldpeak     0\n",
      "slope       0\n",
      "ca          0\n",
      "thal        0\n",
      "target      0\n",
      "dtype: int64\n"
     ]
    },
    {
     "name": "stderr",
     "output_type": "stream",
     "text": [
      "C:\\Users\\ABDUL HADI\\AppData\\Local\\Temp\\ipykernel_18560\\1858657034.py:5: FutureWarning: A value is trying to be set on a copy of a DataFrame or Series through chained assignment using an inplace method.\n",
      "The behavior will change in pandas 3.0. This inplace method will never work because the intermediate object on which we are setting values always behaves as a copy.\n",
      "\n",
      "For example, when doing 'df[col].method(value, inplace=True)', try using 'df.method({col: value}, inplace=True)' or df[col] = df[col].method(value) instead, to perform the operation inplace on the original object.\n",
      "\n",
      "\n",
      "  data['sex'].fillna(data['sex'].mode()[0], inplace=True)\n"
     ]
    }
   ],
   "source": [
    "# Memeriksa missing values\n",
    "print(data.isnull().sum())\n",
    "\n",
    "# Mengisi missing values di kolom 'sex' dengan modus (nilai yang paling sering muncul)\n",
    "data['sex'].fillna(data['sex'].mode()[0], inplace=True)\n",
    "\n",
    "# Verifikasi kembali apakah masih ada missing values\n",
    "print(data.isnull().sum())\n"
   ]
  },
  {
   "cell_type": "code",
   "execution_count": 5,
   "id": "90c19110-1797-476b-87a0-5e74362d183a",
   "metadata": {},
   "outputs": [
    {
     "name": "stdout",
     "output_type": "stream",
     "text": [
      "    age  sex  cp  trestbps  chol  fbs  restecg  thalach  exang  oldpeak  \\\n",
      "0  57.0    1   3       145   233    1        0      150      0      2.3   \n",
      "1  64.0    0   2       130   250    0        1      187      0      3.5   \n",
      "2  52.0    1   1       130   204    0        0      172      0      1.4   \n",
      "3  56.0    0   1       120   236    0        1      178      0      0.8   \n",
      "4  66.0    0   0       120   354    0        1      163      1      0.6   \n",
      "\n",
      "   slope  ca  thal  target  \n",
      "0      0   0     1       1  \n",
      "1      0   0     2       1  \n",
      "2      2   0     2       1  \n",
      "3      2   0     2       1  \n",
      "4      2   0     2       1  \n"
     ]
    }
   ],
   "source": [
    "from sklearn.preprocessing import LabelEncoder\n",
    "\n",
    "# Daftar kolom kategorikal\n",
    "categorical_columns = ['sex', 'cp', 'restecg', 'exang', 'slope', 'ca', 'thal']\n",
    "\n",
    "# Membuat objek LabelEncoder untuk setiap kolom\n",
    "label_encoders = {}\n",
    "\n",
    "# Melakukan encoding\n",
    "for col in categorical_columns:\n",
    "    label_encoders[col] = LabelEncoder()\n",
    "    data[col] = label_encoders[col].fit_transform(data[col])\n",
    "\n",
    "# Memeriksa hasil encoding\n",
    "print(data.head())\n"
   ]
  },
  {
   "cell_type": "code",
   "execution_count": 6,
   "id": "080ed80c-867a-4ad9-9c96-6446d7898856",
   "metadata": {},
   "outputs": [
    {
     "name": "stdout",
     "output_type": "stream",
     "text": [
      "        age       sex        cp  trestbps      chol       fbs   restecg  \\\n",
      "0  0.088128  1.000959  1.993733  0.762261 -0.256495  2.382787 -1.001675   \n",
      "1  0.548973 -0.999042  1.017086 -0.090570  0.072691 -0.419677  0.900800   \n",
      "2 -0.241048  1.000959  0.040439 -0.090570 -0.818048 -0.419677 -1.001675   \n",
      "3  0.022292 -0.999042  0.040439 -0.659124 -0.198404 -0.419677  0.900800   \n",
      "4  0.680643 -0.999042 -0.936208 -0.659124  2.086535 -0.419677  0.900800   \n",
      "\n",
      "    thalach     exang   oldpeak     slope       ca      thal  \n",
      "0  0.015092 -0.696378  1.081856 -2.271363 -0.71358 -2.181027  \n",
      "1  1.633805 -0.696378  2.111797 -2.271363 -0.71358 -0.527170  \n",
      "2  0.977570 -0.696378  0.309401  0.972748 -0.71358 -0.527170  \n",
      "3  1.240064 -0.696378 -0.205570  0.972748 -0.71358 -0.527170  \n",
      "4  0.583829  1.436003 -0.377226  0.972748 -0.71358 -0.527170  \n"
     ]
    }
   ],
   "source": [
    "from sklearn.preprocessing import StandardScaler\n",
    "\n",
    "# Memisahkan fitur dan target\n",
    "X = data.drop(columns=['target'])\n",
    "y = data['target']\n",
    "\n",
    "# Melakukan standarisasi pada fitur\n",
    "scaler = StandardScaler()\n",
    "X_scaled = scaler.fit_transform(X)\n",
    "\n",
    "# Memeriksa beberapa baris pertama dari data yang sudah dinormalisasi\n",
    "print(pd.DataFrame(X_scaled, columns=X.columns).head())\n"
   ]
  },
  {
   "cell_type": "code",
   "execution_count": 7,
   "id": "adad8322-6fbc-4354-b924-4ae22ee98e6c",
   "metadata": {},
   "outputs": [
    {
     "name": "stdout",
     "output_type": "stream",
     "text": [
      "Ukuran X_train: (20866, 13), y_train: (20866,)\n",
      "Ukuran X_test: (5217, 13), y_test: (5217,)\n"
     ]
    }
   ],
   "source": [
    "from sklearn.model_selection import train_test_split\n",
    "\n",
    "# Membagi data menjadi data latih dan data uji (80:20)\n",
    "X_train, X_test, y_train, y_test = train_test_split(X_scaled, y, test_size=0.2, random_state=42)\n",
    "\n",
    "# Memeriksa ukuran dari dataset yang telah dibagi\n",
    "print(f'Ukuran X_train: {X_train.shape}, y_train: {y_train.shape}')\n",
    "print(f'Ukuran X_test: {X_test.shape}, y_test: {y_test.shape}')\n"
   ]
  },
  {
   "cell_type": "code",
   "execution_count": 8,
   "id": "9b206cb3-f10d-4487-8b16-536c358e866f",
   "metadata": {},
   "outputs": [
    {
     "name": "stdout",
     "output_type": "stream",
     "text": [
      "Akurasi: 1.00\n",
      "Precision: 1.00\n",
      "Recall: 1.00\n",
      "F1-Score: 1.00\n"
     ]
    }
   ],
   "source": [
    "from sklearn.neighbors import KNeighborsClassifier\n",
    "from sklearn.metrics import accuracy_score, precision_score, recall_score, f1_score\n",
    "\n",
    "# Membuat model KNN dengan nilai K tertentu\n",
    "knn = KNeighborsClassifier(n_neighbors=5)\n",
    "\n",
    "# Melatih model dengan data latih\n",
    "knn.fit(X_train, y_train)\n",
    "\n",
    "# Melakukan prediksi pada data uji\n",
    "y_pred = knn.predict(X_test)\n",
    "\n",
    "# Menghitung metrik evaluasi\n",
    "accuracy = accuracy_score(y_test, y_pred)\n",
    "precision = precision_score(y_test, y_pred)\n",
    "recall = recall_score(y_test, y_pred)\n",
    "f1 = f1_score(y_test, y_pred)\n",
    "\n",
    "print(f'Akurasi: {accuracy:.2f}')\n",
    "print(f'Precision: {precision:.2f}')\n",
    "print(f'Recall: {recall:.2f}')\n",
    "print(f'F1-Score: {f1:.2f}')\n"
   ]
  },
  {
   "cell_type": "code",
   "execution_count": null,
   "id": "dc611b06-1657-4977-9469-ed71d681b579",
   "metadata": {},
   "outputs": [],
   "source": []
  }
 ],
 "metadata": {
  "kernelspec": {
   "display_name": "Python 3 (ipykernel)",
   "language": "python",
   "name": "python3"
  },
  "language_info": {
   "codemirror_mode": {
    "name": "ipython",
    "version": 3
   },
   "file_extension": ".py",
   "mimetype": "text/x-python",
   "name": "python",
   "nbconvert_exporter": "python",
   "pygments_lexer": "ipython3",
   "version": "3.12.4"
  }
 },
 "nbformat": 4,
 "nbformat_minor": 5
}
