{
 "cells": [
  {
   "cell_type": "code",
   "execution_count": 1,
   "id": "3cd6a221-3ea3-4a40-9de7-51ac86484e7d",
   "metadata": {},
   "outputs": [
    {
     "ename": "ModuleNotFoundError",
     "evalue": "No module named 'flask'",
     "output_type": "error",
     "traceback": [
      "\u001b[1;31m---------------------------------------------------------------------------\u001b[0m",
      "\u001b[1;31mModuleNotFoundError\u001b[0m                       Traceback (most recent call last)",
      "Cell \u001b[1;32mIn[1], line 1\u001b[0m\n\u001b[1;32m----> 1\u001b[0m \u001b[38;5;28;01mfrom\u001b[39;00m \u001b[38;5;21;01mflask\u001b[39;00m \u001b[38;5;28;01mimport\u001b[39;00m Flask, request, jsonify, render_template\n\u001b[0;32m      2\u001b[0m \u001b[38;5;28;01mimport\u001b[39;00m \u001b[38;5;21;01mpickle\u001b[39;00m\n\u001b[0;32m      3\u001b[0m \u001b[38;5;28;01mimport\u001b[39;00m \u001b[38;5;21;01mnumpy\u001b[39;00m \u001b[38;5;28;01mas\u001b[39;00m \u001b[38;5;21;01mnp\u001b[39;00m\n",
      "\u001b[1;31mModuleNotFoundError\u001b[0m: No module named 'flask'"
     ]
    }
   ],
   "source": [
    "from flask import Flask, request, jsonify, render_template\n",
    "import pickle\n",
    "import numpy as np\n",
    "from flask_sqlalchemy import SQLAlchemy\n",
    "\n",
    "app = Flask(__name__)\n",
    "app.config['SQLALCHEMY_DATABASE_URI'] = 'sqlite:///predictions.db'\n",
    "db = SQLAlchemy(app)\n",
    "\n",
    "class Prediction(db.Model):\n",
    "    id = db.Column(db.Integer, primary_key=True)\n",
    "    age = db.Column(db.Float)\n",
    "    bmi = db.Column(db.Float)\n",
    "    blood_pressure = db.Column(db.Float)\n",
    "    cholesterol = db.Column(db.Float)\n",
    "    result = db.Column(db.String(50))\n",
    "\n",
    "with open('knn_model.pkl', 'rb') as model_file:\n",
    "    knn_model = pickle.load(model_file)\n",
    "with open('scaler.pkl', 'rb') as scaler_file:\n",
    "    scaler = pickle.load(scaler_file)\n",
    "\n",
    "@app.route('/')\n",
    "def home():\n",
    "    return render_template('index.html')\n",
    "\n",
    "@app.route('/predict', methods=['POST'])\n",
    "def predict():\n",
    "    features = [float(x) for x in request.form.values()]\n",
    "    features_scaled = scaler.transform([features])\n",
    "    prediction = knn_model.predict(features_scaled)\n",
    "    \n",
    "    output = \"Berisiko Hipertensi\" if prediction[0] == 1 else \"Tidak Berisiko Hipertensi\"\n",
    "    \n",
    "    new_prediction = Prediction(age=features[0], bmi=features[1], \n",
    "                                blood_pressure=features[2], cholesterol=features[3],\n",
    "                                result=output)\n",
    "    db.session.add(new_prediction)\n",
    "    db.session.commit()\n",
    "    \n",
    "    return render_template('result.html', prediction_text=output, features=features)\n",
    "\n",
    "if __name__ == '__main__':\n",
    "    db.create_all()\n",
    "    app.run(debug=True)"
   ]
  },
  {
   "cell_type": "code",
   "execution_count": null,
   "id": "112ba2b4-1607-4bd9-b838-f8ab10976a18",
   "metadata": {},
   "outputs": [],
   "source": []
  }
 ],
 "metadata": {
  "kernelspec": {
   "display_name": "Python 3 (ipykernel)",
   "language": "python",
   "name": "python3"
  },
  "language_info": {
   "codemirror_mode": {
    "name": "ipython",
    "version": 3
   },
   "file_extension": ".py",
   "mimetype": "text/x-python",
   "name": "python",
   "nbconvert_exporter": "python",
   "pygments_lexer": "ipython3",
   "version": "3.12.4"
  }
 },
 "nbformat": 4,
 "nbformat_minor": 5
}
